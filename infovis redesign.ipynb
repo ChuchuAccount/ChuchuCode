{
  "nbformat": 4,
  "nbformat_minor": 0,
  "metadata": {
    "colab": {
      "provenance": []
    },
    "kernelspec": {
      "name": "python3",
      "display_name": "Python 3"
    },
    "language_info": {
      "name": "python"
    }
  },
  "cells": [
    {
      "cell_type": "code",
      "source": [
        "!pip install pandas geopandas plotly pycountry"
      ],
      "metadata": {
        "colab": {
          "base_uri": "https://localhost:8080/"
        },
        "id": "7DCPx4wxaVyQ",
        "outputId": "a6b31676-7418-4433-d300-9ebfef653df2"
      },
      "execution_count": null,
      "outputs": [
        {
          "output_type": "stream",
          "name": "stdout",
          "text": [
            "Requirement already satisfied: pandas in /usr/local/lib/python3.11/dist-packages (2.2.2)\n",
            "Requirement already satisfied: geopandas in /usr/local/lib/python3.11/dist-packages (1.0.1)\n",
            "Requirement already satisfied: plotly in /usr/local/lib/python3.11/dist-packages (5.24.1)\n",
            "Collecting pycountry\n",
            "  Downloading pycountry-24.6.1-py3-none-any.whl.metadata (12 kB)\n",
            "Requirement already satisfied: numpy>=1.23.2 in /usr/local/lib/python3.11/dist-packages (from pandas) (2.0.2)\n",
            "Requirement already satisfied: python-dateutil>=2.8.2 in /usr/local/lib/python3.11/dist-packages (from pandas) (2.8.2)\n",
            "Requirement already satisfied: pytz>=2020.1 in /usr/local/lib/python3.11/dist-packages (from pandas) (2025.2)\n",
            "Requirement already satisfied: tzdata>=2022.7 in /usr/local/lib/python3.11/dist-packages (from pandas) (2025.2)\n",
            "Requirement already satisfied: pyogrio>=0.7.2 in /usr/local/lib/python3.11/dist-packages (from geopandas) (0.10.0)\n",
            "Requirement already satisfied: packaging in /usr/local/lib/python3.11/dist-packages (from geopandas) (24.2)\n",
            "Requirement already satisfied: pyproj>=3.3.0 in /usr/local/lib/python3.11/dist-packages (from geopandas) (3.7.1)\n",
            "Requirement already satisfied: shapely>=2.0.0 in /usr/local/lib/python3.11/dist-packages (from geopandas) (2.0.7)\n",
            "Requirement already satisfied: tenacity>=6.2.0 in /usr/local/lib/python3.11/dist-packages (from plotly) (9.1.2)\n",
            "Requirement already satisfied: certifi in /usr/local/lib/python3.11/dist-packages (from pyogrio>=0.7.2->geopandas) (2025.1.31)\n",
            "Requirement already satisfied: six>=1.5 in /usr/local/lib/python3.11/dist-packages (from python-dateutil>=2.8.2->pandas) (1.17.0)\n",
            "Downloading pycountry-24.6.1-py3-none-any.whl (6.3 MB)\n",
            "\u001b[2K   \u001b[90m━━━━━━━━━━━━━━━━━━━━━━━━━━━━━━━━━━━━━━━━\u001b[0m \u001b[32m6.3/6.3 MB\u001b[0m \u001b[31m75.4 MB/s\u001b[0m eta \u001b[36m0:00:00\u001b[0m\n",
            "\u001b[?25hInstalling collected packages: pycountry\n",
            "Successfully installed pycountry-24.6.1\n"
          ]
        }
      ]
    },
    {
      "cell_type": "code",
      "source": [
        "import pandas as pd\n",
        "import geopandas as gpd\n",
        "import plotly.express as px\n",
        "import pycountry\n",
        "\n",
        "df = pd.read_csv(\"world_risk_index.csv\")\n",
        "\n",
        "df = df.sort_values('Year', ascending=True)\n",
        "\n",
        "def get_country_code(name):\n",
        "    try:\n",
        "        return pycountry.countries.lookup(name).alpha_3\n",
        "    except:\n",
        "        return None\n",
        "\n",
        "df[\"iso_a3\"] = df[\"Region\"].apply(get_country_code)\n",
        "\n",
        "df = df.dropna(subset=[\"iso_a3\"])\n",
        "\n",
        "df = df.groupby('Region').apply(lambda x: x.fillna(method='ffill').fillna(method='bfill')).reset_index(drop=True)\n",
        "\n",
        "zmin = 0\n",
        "zmax = 15\n",
        "\n",
        "custom_colorscale = [\n",
        "    [0.0, \"yellow\"],\n",
        "    [0.5, \"orange\"],\n",
        "    [1.0, \"red\"]\n",
        "]\n",
        "\n",
        "fig = px.choropleth(\n",
        "    df,\n",
        "    locations=\"iso_a3\",\n",
        "    color=\"WRI\",\n",
        "    hover_name=\"Region\",\n",
        "    hover_data={\"WRI\": True, \"iso_a3\": False},\n",
        "    color_continuous_scale=custom_colorscale,\n",
        "    range_color=(zmin, zmax),\n",
        "    title=\"Global Disaster Risk (WorldRiskIndex)\",\n",
        "    projection=\"natural earth\",\n",
        "    animation_frame=\"Year\"\n",
        ")\n",
        "\n",
        "fig.update_layout(\n",
        "    geo=dict(showframe=False, showcoastlines=True),\n",
        "    coloraxis_colorbar=dict(\n",
        "        title=\"WRI\",\n",
        "        showticklabels=False,\n",
        "        ticks=\"\"\n",
        "    )\n",
        ")\n",
        "\n",
        "fig.show()\n"
      ],
      "metadata": {
        "colab": {
          "base_uri": "https://localhost:8080/",
          "height": 393
        },
        "id": "aBCShS89a2Qk",
        "outputId": "19f85393-1e9a-4b8b-be38-0c3017cfec21"
      },
      "execution_count": 1,
      "outputs": [
        {
          "output_type": "error",
          "ename": "ModuleNotFoundError",
          "evalue": "No module named 'pycountry'",
          "traceback": [
            "\u001b[0;31m---------------------------------------------------------------------------\u001b[0m",
            "\u001b[0;31mModuleNotFoundError\u001b[0m                       Traceback (most recent call last)",
            "\u001b[0;32m<ipython-input-1-992233748964>\u001b[0m in \u001b[0;36m<cell line: 0>\u001b[0;34m()\u001b[0m\n\u001b[1;32m      2\u001b[0m \u001b[0;32mimport\u001b[0m \u001b[0mgeopandas\u001b[0m \u001b[0;32mas\u001b[0m \u001b[0mgpd\u001b[0m\u001b[0;34m\u001b[0m\u001b[0;34m\u001b[0m\u001b[0m\n\u001b[1;32m      3\u001b[0m \u001b[0;32mimport\u001b[0m \u001b[0mplotly\u001b[0m\u001b[0;34m.\u001b[0m\u001b[0mexpress\u001b[0m \u001b[0;32mas\u001b[0m \u001b[0mpx\u001b[0m\u001b[0;34m\u001b[0m\u001b[0;34m\u001b[0m\u001b[0m\n\u001b[0;32m----> 4\u001b[0;31m \u001b[0;32mimport\u001b[0m \u001b[0mpycountry\u001b[0m\u001b[0;34m\u001b[0m\u001b[0;34m\u001b[0m\u001b[0m\n\u001b[0m\u001b[1;32m      5\u001b[0m \u001b[0;34m\u001b[0m\u001b[0m\n\u001b[1;32m      6\u001b[0m \u001b[0mdf\u001b[0m \u001b[0;34m=\u001b[0m \u001b[0mpd\u001b[0m\u001b[0;34m.\u001b[0m\u001b[0mread_csv\u001b[0m\u001b[0;34m(\u001b[0m\u001b[0;34m\"world_risk_index.csv\"\u001b[0m\u001b[0;34m)\u001b[0m\u001b[0;34m\u001b[0m\u001b[0;34m\u001b[0m\u001b[0m\n",
            "\u001b[0;31mModuleNotFoundError\u001b[0m: No module named 'pycountry'",
            "",
            "\u001b[0;31m---------------------------------------------------------------------------\u001b[0;32m\nNOTE: If your import is failing due to a missing package, you can\nmanually install dependencies using either !pip or !apt.\n\nTo view examples of installing some common dependencies, click the\n\"Open Examples\" button below.\n\u001b[0;31m---------------------------------------------------------------------------\u001b[0m\n"
          ],
          "errorDetails": {
            "actions": [
              {
                "action": "open_url",
                "actionText": "Open Examples",
                "url": "/notebooks/snippets/importing_libraries.ipynb"
              }
            ]
          }
        }
      ]
    },
    {
      "cell_type": "code",
      "source": [
        "import pandas as pd\n",
        "import geopandas as gpd\n",
        "import plotly.express as px\n",
        "import pycountry\n",
        "\n",
        "df = pd.read_csv(\"world_risk_index.csv\")\n",
        "\n",
        "df = df.sort_values('Year', ascending=False).drop_duplicates('Region')\n",
        "\n",
        "def get_country_code(name):\n",
        "    try:\n",
        "        return pycountry.countries.lookup(name).alpha_3\n",
        "    except:\n",
        "        return None\n",
        "\n",
        "df[\"iso_a3\"] = df[\"Region\"].apply(get_country_code)\n",
        "df = df.dropna(subset=[\"iso_a3\"])\n",
        "\n",
        "zmin = 0\n",
        "zmax = 15\n",
        "\n",
        "custom_colorscale = [\n",
        "    [0.0, \"yellow\"],\n",
        "    [0.5, \"orange\"],\n",
        "    [1.0, \"red\"]\n",
        "]\n",
        "\n",
        "fig = px.choropleth(\n",
        "    df,\n",
        "    locations=\"iso_a3\",\n",
        "    color=\"WRI\",\n",
        "    hover_name=\"Region\",\n",
        "    hover_data={\"WRI\": True, \"iso_a3\": False},\n",
        "    color_continuous_scale=custom_colorscale,\n",
        "    range_color=(zmin, zmax),\n",
        "    title=\"Global Disaster Risk (WorldRiskIndex)\",\n",
        "    projection=\"natural earth\"\n",
        ")\n",
        "\n",
        "fig.update_layout(\n",
        "    geo=dict(showframe=False, showcoastlines=True),\n",
        "    coloraxis_colorbar=dict(\n",
        "        title=\"WRI\",\n",
        "        showticklabels=False,\n",
        "        ticks=\"\"\n",
        "    )\n",
        ")\n",
        "\n",
        "fig.show()\n"
      ],
      "metadata": {
        "colab": {
          "base_uri": "https://localhost:8080/",
          "height": 542
        },
        "id": "catEjnKkdge_",
        "outputId": "78019c9f-26fc-4cbe-9164-f7a0507b9afa"
      },
      "execution_count": null,
      "outputs": [
        {
          "output_type": "display_data",
          "data": {
            "text/html": [
              "<html>\n",
              "<head><meta charset=\"utf-8\" /></head>\n",
              "<body>\n",
              "    <div>            <script src=\"https://cdnjs.cloudflare.com/ajax/libs/mathjax/2.7.5/MathJax.js?config=TeX-AMS-MML_SVG\"></script><script type=\"text/javascript\">if (window.MathJax && window.MathJax.Hub && window.MathJax.Hub.Config) {window.MathJax.Hub.Config({SVG: {font: \"STIX-Web\"}});}</script>                <script type=\"text/javascript\">window.PlotlyConfig = {MathJaxConfig: 'local'};</script>\n",
              "        <script charset=\"utf-8\" src=\"https://cdn.plot.ly/plotly-2.35.2.min.js\"></script>                <div id=\"4e645c9c-1542-4691-a45c-3e7a55340173\" class=\"plotly-graph-div\" style=\"height:525px; width:100%;\"></div>            <script type=\"text/javascript\">                                    window.PLOTLYENV=window.PLOTLYENV || {};                                    if (document.getElementById(\"4e645c9c-1542-4691-a45c-3e7a55340173\")) {                    Plotly.newPlot(                        \"4e645c9c-1542-4691-a45c-3e7a55340173\",                        [{\"coloraxis\":\"coloraxis\",\"customdata\":[[10.71,\"MLI\"],[10.99,\"TGO\"],[1.37,\"BRB\"],[1.06,\"GRD\"],[0.69,\"MLT\"],[2.93,\"BHR\"],[2.81,\"ISR\"],[2.72,\"UKR\"],[2.64,\"BLR\"],[2.54,\"OMN\"],[3.56,\"PRY\"],[3.52,\"PRT\"],[3.25,\"BTN\"],[4.66,\"NPL\"],[4.46,\"LAO\"],[4.32,\"KWT\"],[4.27,\"BHS\"],[3.94,\"BWA\"],[5.54,\"WSM\"],[5.03,\"IRN\"],[6.66,\"LSO\"],[6.52,\"THA\"],[5.87,\"CHN\"],[5.86,\"NAM\"],[5.85,\"TKM\"],[7.55,\"LKA\"],[7.25,\"MMR\"],[6.87,\"ERI\"],[6.8,\"PAK\"],[6.75,\"MNE\"],[6.75,\"PER\"],[8.65,\"GIN\"],[8.64,\"UGA\"],[8.47,\"SDN\"],[8.18,\"AFG\"],[8.03,\"BLZ\"],[7.99,\"VEN\"],[7.85,\"SWZ\"],[7.76,\"PAN\"],[7.73,\"MYS\"],[10.42,\"BDI\"],[10.28,\"AGO\"],[10.27,\"VNM\"],[9.79,\"SEN\"],[9.66,\"JPN\"],[9.4,\"SLE\"],[9.32,\"GHA\"],[9.04,\"MUS\"],[11.32,\"CHL\"],[11.23,\"HND\"],[11.19,\"BFA\"],[8.94,\"MWI\"],[8.92,\"LBR\"],[8.82,\"ECU\"],[13.39,\"GNB\"],[12.66,\"NGA\"],[12.53,\"URY\"],[12.4,\"GMB\"],[11.71,\"BEN\"],[20.23,\"GTM\"],[17.06,\"CRI\"],[15.75,\"TLS\"],[15.32,\"SLV\"],[15.14,\"KIR\"],[14.54,\"HTI\"],[14.12,\"NIC\"],[13.9,\"NER\"],[47.73,\"VUT\"],[30.51,\"TON\"],[27.42,\"DMA\"],[22.77,\"BRN\"],[21.83,\"GUY\"],[7.36,\"SUR\"],[2.68,\"CYP\"],[3.56,\"KAZ\"],[3.54,\"GBR\"],[3.41,\"SVN\"],[3.39,\"AUT\"],[3.39,\"SVK\"],[3.37,\"CZE\"],[3.31,\"LVA\"],[3.2,\"POL\"],[5.01,\"LBN\"],[4.79,\"MDA\"],[4.6,\"IRL\"],[2.21,\"FIN\"],[3.97,\"HRV\"],[3.76,\"USA\"],[3.56,\"ARG\"],[3.08,\"MNG\"],[3.07,\"BEL\"],[3.05,\"ESP\"],[3.01,\"CAN\"],[2.95,\"DEU\"],[2.92,\"LTU\"],[2.89,\"DNK\"],[16.43,\"PNG\"],[10.91,\"CMR\"],[26.7,\"PHL\"],[19.17,\"BGD\"],[19.14,\"SLB\"],[16.58,\"KHM\"],[13.15,\"FJI\"],[12.53,\"VNM\"],[11.83,\"JAM\"],[11.15,\"MDG\"],[10.96,\"DOM\"],[10.3,\"DJI\"],[10.24,\"IDN\"],[10.06,\"ZWE\"],[9.5,\"ALB\"],[8.69,\"MOZ\"],[8.24,\"NLD\"],[7.95,\"MRT\"],[7.86,\"KGZ\"],[7.65,\"TZA\"],[10.85,\"TCD\"],[7.36,\"DZA\"],[7.29,\"COM\"],[7.25,\"ZMB\"],[7.19,\"COG\"],[7.12,\"SRB\"],[7.09,\"RWA\"],[7.04,\"ETH\"],[7.03,\"CAF\"],[6.77,\"KEN\"],[6.72,\"TJK\"],[6.7,\"GRC\"],[8.59,\"UZB\"],[6.45,\"MAR\"],[6.45,\"COL\"],[6.27,\"GEO\"],[6.13,\"CUB\"],[6.1,\"BIH\"],[6.07,\"ARM\"],[7.5,\"TTO\"],[5.97,\"YEM\"],[5.97,\"MEX\"],[5.92,\"ROU\"],[5.69,\"SYR\"],[5.58,\"ZAF\"],[5.54,\"AZE\"],[5.4,\"TUN\"],[5.32,\"HUN\"],[6.64,\"IND\"],[2.19,\"NOR\"],[2.12,\"SWE\"],[1.97,\"ARE\"],[4.58,\"BOL\"],[4.58,\"JOR\"],[4.55,\"NZL\"],[4.49,\"IRQ\"],[4.46,\"GNQ\"],[4.42,\"ITA\"],[4.22,\"BGR\"],[4.22,\"AUS\"],[4.09,\"BRA\"],[6.04,\"GAB\"],[0.08,\"QAT\"],[2.62,\"FRA\"],[2.55,\"SYC\"],[2.43,\"LUX\"],[2.37,\"CHE\"],[2.36,\"EST\"],[2.29,\"EGY\"],[2.27,\"SGP\"],[1.52,\"ISL\"],[1.14,\"SAU\"],[5.75,\"LAO\"]],\"geo\":\"geo\",\"hovertemplate\":\"\\u003cb\\u003e%{hovertext}\\u003c\\u002fb\\u003e\\u003cbr\\u003e\\u003cbr\\u003eWRI=%{z}\\u003cextra\\u003e\\u003c\\u002fextra\\u003e\",\"hovertext\":[\"Mali\",\"Togo\",\"Barbados\",\"Grenada\",\"Malta\",\"Bahrain\",\"Israel\",\"Ukraine\",\"Belarus\",\"Oman\",\"Paraguay\",\"Portugal\",\"Bhutan\",\"Nepal\",\"Laos\",\"Kuwait\",\"Bahamas\",\"Botswana\",\"Samoa\",\"Iran\",\"Lesotho\",\"Thailand\",\"China\",\"Namibia\",\"Turkmenistan\",\"Sri Lanka\",\"Myanmar\",\"Eritrea\",\"Pakistan\",\"Montenegro\",\"Peru\",\"Guinea\",\"Uganda\",\"Sudan\",\"Afghanistan\",\"Belize\",\"Venezuela\",\"Eswatini\",\"Panama\",\"Malaysia\",\"Burundi\",\"Angola\",\"Vietnam\",\"Senegal\",\"Japan\",\"Sierra Leone\",\"Ghana\",\"Mauritius\",\"Chile\",\"Honduras\",\"Burkina Faso\",\"Malawi\",\"Liberia\",\"Ecuador\",\"Guinea-Bissau\",\"Nigeria\",\"Uruguay\",\"Gambia\",\"Benin\",\"Guatemala\",\"Costa Rica\",\"Timor-Leste\",\"El Salvador\",\"Kiribati\",\"Haiti\",\"Nicaragua\",\"Niger\",\"Vanuatu\",\"Tonga\",\"Dominica\",\"Brunei Darussalam\",\"Guyana\",\"Suriname\",\"Cyprus\",\"Kazakhstan\",\"United Kingdom\",\"Slovenia\",\"Austria\",\"Slovakia\",\"Czech Republic\",\"Latvia\",\"Poland\",\"Lebanon\",\"Republic of Moldova\",\"Ireland\",\"Finland\",\"Croatia\",\"United States\",\"Argentina\",\"Mongolia\",\"Belgium\",\"Spain\",\"Canada\",\"Germany\",\"Lithuania\",\"Denmark\",\"Papua New Guinea\",\"Cameroon\",\"Philippines\",\"Bangladesh\",\"Solomon Islands\",\"Cambodia\",\"Fiji\",\"Viet Nam\",\"Jamaica\",\"Madagascar\",\"Dominican Republic\",\"Djibouti\",\"Indonesia\",\"Zimbabwe\",\"Albania\",\"Mozambique\",\"Netherlands\",\"Mauritania\",\"Kyrgyzstan\",\"United Republic of Tanzania\",\"Chad\",\"Algeria\",\"Comoros\",\"Zambia\",\"Congo\",\"Serbia\",\"Rwanda\",\"Ethiopia\",\"Central African Republic\",\"Kenya\",\"Tajikistan\",\"Greece\",\"Uzbekistan\",\"Morocco\",\"Colombia\",\"Georgia\",\"Cuba\",\"Bosnia and Herzegovina\",\"Armenia\",\"Trinidad and Tobago\",\"Yemen\",\"Mexico\",\"Romania\",\"Syrian Arab Republic\",\"South Africa\",\"Azerbaijan\",\"Tunisia\",\"Hungary\",\"India\",\"Norway\",\"Sweden\",\"United Arab Emirates\",\"Bolivia\",\"Jordan\",\"New Zealand\",\"Iraq\",\"Equatorial Guinea\",\"Italy\",\"Bulgaria\",\"Australia\",\"Brazil\",\"Gabon\",\"Qatar\",\"France\",\"Seychelles\",\"Luxembourg\",\"Switzerland\",\"Estonia\",\"Egypt\",\"Singapore\",\"Iceland\",\"Saudi Arabia\",\"Lao People's Democratic Republic\"],\"locations\":[\"MLI\",\"TGO\",\"BRB\",\"GRD\",\"MLT\",\"BHR\",\"ISR\",\"UKR\",\"BLR\",\"OMN\",\"PRY\",\"PRT\",\"BTN\",\"NPL\",\"LAO\",\"KWT\",\"BHS\",\"BWA\",\"WSM\",\"IRN\",\"LSO\",\"THA\",\"CHN\",\"NAM\",\"TKM\",\"LKA\",\"MMR\",\"ERI\",\"PAK\",\"MNE\",\"PER\",\"GIN\",\"UGA\",\"SDN\",\"AFG\",\"BLZ\",\"VEN\",\"SWZ\",\"PAN\",\"MYS\",\"BDI\",\"AGO\",\"VNM\",\"SEN\",\"JPN\",\"SLE\",\"GHA\",\"MUS\",\"CHL\",\"HND\",\"BFA\",\"MWI\",\"LBR\",\"ECU\",\"GNB\",\"NGA\",\"URY\",\"GMB\",\"BEN\",\"GTM\",\"CRI\",\"TLS\",\"SLV\",\"KIR\",\"HTI\",\"NIC\",\"NER\",\"VUT\",\"TON\",\"DMA\",\"BRN\",\"GUY\",\"SUR\",\"CYP\",\"KAZ\",\"GBR\",\"SVN\",\"AUT\",\"SVK\",\"CZE\",\"LVA\",\"POL\",\"LBN\",\"MDA\",\"IRL\",\"FIN\",\"HRV\",\"USA\",\"ARG\",\"MNG\",\"BEL\",\"ESP\",\"CAN\",\"DEU\",\"LTU\",\"DNK\",\"PNG\",\"CMR\",\"PHL\",\"BGD\",\"SLB\",\"KHM\",\"FJI\",\"VNM\",\"JAM\",\"MDG\",\"DOM\",\"DJI\",\"IDN\",\"ZWE\",\"ALB\",\"MOZ\",\"NLD\",\"MRT\",\"KGZ\",\"TZA\",\"TCD\",\"DZA\",\"COM\",\"ZMB\",\"COG\",\"SRB\",\"RWA\",\"ETH\",\"CAF\",\"KEN\",\"TJK\",\"GRC\",\"UZB\",\"MAR\",\"COL\",\"GEO\",\"CUB\",\"BIH\",\"ARM\",\"TTO\",\"YEM\",\"MEX\",\"ROU\",\"SYR\",\"ZAF\",\"AZE\",\"TUN\",\"HUN\",\"IND\",\"NOR\",\"SWE\",\"ARE\",\"BOL\",\"JOR\",\"NZL\",\"IRQ\",\"GNQ\",\"ITA\",\"BGR\",\"AUS\",\"BRA\",\"GAB\",\"QAT\",\"FRA\",\"SYC\",\"LUX\",\"CHE\",\"EST\",\"EGY\",\"SGP\",\"ISL\",\"SAU\",\"LAO\"],\"name\":\"\",\"z\":[10.71,10.99,1.37,1.06,0.69,2.93,2.81,2.72,2.64,2.54,3.56,3.52,3.25,4.66,4.46,4.32,4.27,3.94,5.54,5.03,6.66,6.52,5.87,5.86,5.85,7.55,7.25,6.87,6.8,6.75,6.75,8.65,8.64,8.47,8.18,8.03,7.99,7.85,7.76,7.73,10.42,10.28,10.27,9.79,9.66,9.4,9.32,9.04,11.32,11.23,11.19,8.94,8.92,8.82,13.39,12.66,12.53,12.4,11.71,20.23,17.06,15.75,15.32,15.14,14.54,14.12,13.9,47.73,30.51,27.42,22.77,21.83,7.36,2.68,3.56,3.54,3.41,3.39,3.39,3.37,3.31,3.2,5.01,4.79,4.6,2.21,3.97,3.76,3.56,3.08,3.07,3.05,3.01,2.95,2.92,2.89,16.43,10.91,26.7,19.17,19.14,16.58,13.15,12.53,11.83,11.15,10.96,10.3,10.24,10.06,9.5,8.69,8.24,7.95,7.86,7.65,10.85,7.36,7.29,7.25,7.19,7.12,7.09,7.04,7.03,6.77,6.72,6.7,8.59,6.45,6.45,6.27,6.13,6.1,6.07,7.5,5.97,5.97,5.92,5.69,5.58,5.54,5.4,5.32,6.64,2.19,2.12,1.97,4.58,4.58,4.55,4.49,4.46,4.42,4.22,4.22,4.09,6.04,0.08,2.62,2.55,2.43,2.37,2.36,2.29,2.27,1.52,1.14,5.75],\"type\":\"choropleth\"}],                        {\"template\":{\"data\":{\"histogram2dcontour\":[{\"type\":\"histogram2dcontour\",\"colorbar\":{\"outlinewidth\":0,\"ticks\":\"\"},\"colorscale\":[[0.0,\"#0d0887\"],[0.1111111111111111,\"#46039f\"],[0.2222222222222222,\"#7201a8\"],[0.3333333333333333,\"#9c179e\"],[0.4444444444444444,\"#bd3786\"],[0.5555555555555556,\"#d8576b\"],[0.6666666666666666,\"#ed7953\"],[0.7777777777777778,\"#fb9f3a\"],[0.8888888888888888,\"#fdca26\"],[1.0,\"#f0f921\"]]}],\"choropleth\":[{\"type\":\"choropleth\",\"colorbar\":{\"outlinewidth\":0,\"ticks\":\"\"}}],\"histogram2d\":[{\"type\":\"histogram2d\",\"colorbar\":{\"outlinewidth\":0,\"ticks\":\"\"},\"colorscale\":[[0.0,\"#0d0887\"],[0.1111111111111111,\"#46039f\"],[0.2222222222222222,\"#7201a8\"],[0.3333333333333333,\"#9c179e\"],[0.4444444444444444,\"#bd3786\"],[0.5555555555555556,\"#d8576b\"],[0.6666666666666666,\"#ed7953\"],[0.7777777777777778,\"#fb9f3a\"],[0.8888888888888888,\"#fdca26\"],[1.0,\"#f0f921\"]]}],\"heatmap\":[{\"type\":\"heatmap\",\"colorbar\":{\"outlinewidth\":0,\"ticks\":\"\"},\"colorscale\":[[0.0,\"#0d0887\"],[0.1111111111111111,\"#46039f\"],[0.2222222222222222,\"#7201a8\"],[0.3333333333333333,\"#9c179e\"],[0.4444444444444444,\"#bd3786\"],[0.5555555555555556,\"#d8576b\"],[0.6666666666666666,\"#ed7953\"],[0.7777777777777778,\"#fb9f3a\"],[0.8888888888888888,\"#fdca26\"],[1.0,\"#f0f921\"]]}],\"heatmapgl\":[{\"type\":\"heatmapgl\",\"colorbar\":{\"outlinewidth\":0,\"ticks\":\"\"},\"colorscale\":[[0.0,\"#0d0887\"],[0.1111111111111111,\"#46039f\"],[0.2222222222222222,\"#7201a8\"],[0.3333333333333333,\"#9c179e\"],[0.4444444444444444,\"#bd3786\"],[0.5555555555555556,\"#d8576b\"],[0.6666666666666666,\"#ed7953\"],[0.7777777777777778,\"#fb9f3a\"],[0.8888888888888888,\"#fdca26\"],[1.0,\"#f0f921\"]]}],\"contourcarpet\":[{\"type\":\"contourcarpet\",\"colorbar\":{\"outlinewidth\":0,\"ticks\":\"\"}}],\"contour\":[{\"type\":\"contour\",\"colorbar\":{\"outlinewidth\":0,\"ticks\":\"\"},\"colorscale\":[[0.0,\"#0d0887\"],[0.1111111111111111,\"#46039f\"],[0.2222222222222222,\"#7201a8\"],[0.3333333333333333,\"#9c179e\"],[0.4444444444444444,\"#bd3786\"],[0.5555555555555556,\"#d8576b\"],[0.6666666666666666,\"#ed7953\"],[0.7777777777777778,\"#fb9f3a\"],[0.8888888888888888,\"#fdca26\"],[1.0,\"#f0f921\"]]}],\"surface\":[{\"type\":\"surface\",\"colorbar\":{\"outlinewidth\":0,\"ticks\":\"\"},\"colorscale\":[[0.0,\"#0d0887\"],[0.1111111111111111,\"#46039f\"],[0.2222222222222222,\"#7201a8\"],[0.3333333333333333,\"#9c179e\"],[0.4444444444444444,\"#bd3786\"],[0.5555555555555556,\"#d8576b\"],[0.6666666666666666,\"#ed7953\"],[0.7777777777777778,\"#fb9f3a\"],[0.8888888888888888,\"#fdca26\"],[1.0,\"#f0f921\"]]}],\"mesh3d\":[{\"type\":\"mesh3d\",\"colorbar\":{\"outlinewidth\":0,\"ticks\":\"\"}}],\"scatter\":[{\"fillpattern\":{\"fillmode\":\"overlay\",\"size\":10,\"solidity\":0.2},\"type\":\"scatter\"}],\"parcoords\":[{\"type\":\"parcoords\",\"line\":{\"colorbar\":{\"outlinewidth\":0,\"ticks\":\"\"}}}],\"scatterpolargl\":[{\"type\":\"scatterpolargl\",\"marker\":{\"colorbar\":{\"outlinewidth\":0,\"ticks\":\"\"}}}],\"bar\":[{\"error_x\":{\"color\":\"#2a3f5f\"},\"error_y\":{\"color\":\"#2a3f5f\"},\"marker\":{\"line\":{\"color\":\"#E5ECF6\",\"width\":0.5},\"pattern\":{\"fillmode\":\"overlay\",\"size\":10,\"solidity\":0.2}},\"type\":\"bar\"}],\"scattergeo\":[{\"type\":\"scattergeo\",\"marker\":{\"colorbar\":{\"outlinewidth\":0,\"ticks\":\"\"}}}],\"scatterpolar\":[{\"type\":\"scatterpolar\",\"marker\":{\"colorbar\":{\"outlinewidth\":0,\"ticks\":\"\"}}}],\"histogram\":[{\"marker\":{\"pattern\":{\"fillmode\":\"overlay\",\"size\":10,\"solidity\":0.2}},\"type\":\"histogram\"}],\"scattergl\":[{\"type\":\"scattergl\",\"marker\":{\"colorbar\":{\"outlinewidth\":0,\"ticks\":\"\"}}}],\"scatter3d\":[{\"type\":\"scatter3d\",\"line\":{\"colorbar\":{\"outlinewidth\":0,\"ticks\":\"\"}},\"marker\":{\"colorbar\":{\"outlinewidth\":0,\"ticks\":\"\"}}}],\"scattermapbox\":[{\"type\":\"scattermapbox\",\"marker\":{\"colorbar\":{\"outlinewidth\":0,\"ticks\":\"\"}}}],\"scatterternary\":[{\"type\":\"scatterternary\",\"marker\":{\"colorbar\":{\"outlinewidth\":0,\"ticks\":\"\"}}}],\"scattercarpet\":[{\"type\":\"scattercarpet\",\"marker\":{\"colorbar\":{\"outlinewidth\":0,\"ticks\":\"\"}}}],\"carpet\":[{\"aaxis\":{\"endlinecolor\":\"#2a3f5f\",\"gridcolor\":\"white\",\"linecolor\":\"white\",\"minorgridcolor\":\"white\",\"startlinecolor\":\"#2a3f5f\"},\"baxis\":{\"endlinecolor\":\"#2a3f5f\",\"gridcolor\":\"white\",\"linecolor\":\"white\",\"minorgridcolor\":\"white\",\"startlinecolor\":\"#2a3f5f\"},\"type\":\"carpet\"}],\"table\":[{\"cells\":{\"fill\":{\"color\":\"#EBF0F8\"},\"line\":{\"color\":\"white\"}},\"header\":{\"fill\":{\"color\":\"#C8D4E3\"},\"line\":{\"color\":\"white\"}},\"type\":\"table\"}],\"barpolar\":[{\"marker\":{\"line\":{\"color\":\"#E5ECF6\",\"width\":0.5},\"pattern\":{\"fillmode\":\"overlay\",\"size\":10,\"solidity\":0.2}},\"type\":\"barpolar\"}],\"pie\":[{\"automargin\":true,\"type\":\"pie\"}]},\"layout\":{\"autotypenumbers\":\"strict\",\"colorway\":[\"#636efa\",\"#EF553B\",\"#00cc96\",\"#ab63fa\",\"#FFA15A\",\"#19d3f3\",\"#FF6692\",\"#B6E880\",\"#FF97FF\",\"#FECB52\"],\"font\":{\"color\":\"#2a3f5f\"},\"hovermode\":\"closest\",\"hoverlabel\":{\"align\":\"left\"},\"paper_bgcolor\":\"white\",\"plot_bgcolor\":\"#E5ECF6\",\"polar\":{\"bgcolor\":\"#E5ECF6\",\"angularaxis\":{\"gridcolor\":\"white\",\"linecolor\":\"white\",\"ticks\":\"\"},\"radialaxis\":{\"gridcolor\":\"white\",\"linecolor\":\"white\",\"ticks\":\"\"}},\"ternary\":{\"bgcolor\":\"#E5ECF6\",\"aaxis\":{\"gridcolor\":\"white\",\"linecolor\":\"white\",\"ticks\":\"\"},\"baxis\":{\"gridcolor\":\"white\",\"linecolor\":\"white\",\"ticks\":\"\"},\"caxis\":{\"gridcolor\":\"white\",\"linecolor\":\"white\",\"ticks\":\"\"}},\"coloraxis\":{\"colorbar\":{\"outlinewidth\":0,\"ticks\":\"\"}},\"colorscale\":{\"sequential\":[[0.0,\"#0d0887\"],[0.1111111111111111,\"#46039f\"],[0.2222222222222222,\"#7201a8\"],[0.3333333333333333,\"#9c179e\"],[0.4444444444444444,\"#bd3786\"],[0.5555555555555556,\"#d8576b\"],[0.6666666666666666,\"#ed7953\"],[0.7777777777777778,\"#fb9f3a\"],[0.8888888888888888,\"#fdca26\"],[1.0,\"#f0f921\"]],\"sequentialminus\":[[0.0,\"#0d0887\"],[0.1111111111111111,\"#46039f\"],[0.2222222222222222,\"#7201a8\"],[0.3333333333333333,\"#9c179e\"],[0.4444444444444444,\"#bd3786\"],[0.5555555555555556,\"#d8576b\"],[0.6666666666666666,\"#ed7953\"],[0.7777777777777778,\"#fb9f3a\"],[0.8888888888888888,\"#fdca26\"],[1.0,\"#f0f921\"]],\"diverging\":[[0,\"#8e0152\"],[0.1,\"#c51b7d\"],[0.2,\"#de77ae\"],[0.3,\"#f1b6da\"],[0.4,\"#fde0ef\"],[0.5,\"#f7f7f7\"],[0.6,\"#e6f5d0\"],[0.7,\"#b8e186\"],[0.8,\"#7fbc41\"],[0.9,\"#4d9221\"],[1,\"#276419\"]]},\"xaxis\":{\"gridcolor\":\"white\",\"linecolor\":\"white\",\"ticks\":\"\",\"title\":{\"standoff\":15},\"zerolinecolor\":\"white\",\"automargin\":true,\"zerolinewidth\":2},\"yaxis\":{\"gridcolor\":\"white\",\"linecolor\":\"white\",\"ticks\":\"\",\"title\":{\"standoff\":15},\"zerolinecolor\":\"white\",\"automargin\":true,\"zerolinewidth\":2},\"scene\":{\"xaxis\":{\"backgroundcolor\":\"#E5ECF6\",\"gridcolor\":\"white\",\"linecolor\":\"white\",\"showbackground\":true,\"ticks\":\"\",\"zerolinecolor\":\"white\",\"gridwidth\":2},\"yaxis\":{\"backgroundcolor\":\"#E5ECF6\",\"gridcolor\":\"white\",\"linecolor\":\"white\",\"showbackground\":true,\"ticks\":\"\",\"zerolinecolor\":\"white\",\"gridwidth\":2},\"zaxis\":{\"backgroundcolor\":\"#E5ECF6\",\"gridcolor\":\"white\",\"linecolor\":\"white\",\"showbackground\":true,\"ticks\":\"\",\"zerolinecolor\":\"white\",\"gridwidth\":2}},\"shapedefaults\":{\"line\":{\"color\":\"#2a3f5f\"}},\"annotationdefaults\":{\"arrowcolor\":\"#2a3f5f\",\"arrowhead\":0,\"arrowwidth\":1},\"geo\":{\"bgcolor\":\"white\",\"landcolor\":\"#E5ECF6\",\"subunitcolor\":\"white\",\"showland\":true,\"showlakes\":true,\"lakecolor\":\"white\"},\"title\":{\"x\":0.05},\"mapbox\":{\"style\":\"light\"}}},\"geo\":{\"domain\":{\"x\":[0.0,1.0],\"y\":[0.0,1.0]},\"projection\":{\"type\":\"natural earth\"},\"center\":{},\"showframe\":false,\"showcoastlines\":true},\"coloraxis\":{\"colorbar\":{\"title\":{\"text\":\"WRI\"},\"showticklabels\":false,\"ticks\":\"\"},\"colorscale\":[[0.0,\"yellow\"],[0.5,\"orange\"],[1.0,\"red\"]],\"cmin\":0,\"cmax\":15},\"legend\":{\"tracegroupgap\":0},\"title\":{\"text\":\"Global Disaster Risk (WorldRiskIndex)\"}},                        {\"responsive\": true}                    ).then(function(){\n",
              "                            \n",
              "var gd = document.getElementById('4e645c9c-1542-4691-a45c-3e7a55340173');\n",
              "var x = new MutationObserver(function (mutations, observer) {{\n",
              "        var display = window.getComputedStyle(gd).display;\n",
              "        if (!display || display === 'none') {{\n",
              "            console.log([gd, 'removed!']);\n",
              "            Plotly.purge(gd);\n",
              "            observer.disconnect();\n",
              "        }}\n",
              "}});\n",
              "\n",
              "// Listen for the removal of the full notebook cells\n",
              "var notebookContainer = gd.closest('#notebook-container');\n",
              "if (notebookContainer) {{\n",
              "    x.observe(notebookContainer, {childList: true});\n",
              "}}\n",
              "\n",
              "// Listen for the clearing of the current output cell\n",
              "var outputEl = gd.closest('.output');\n",
              "if (outputEl) {{\n",
              "    x.observe(outputEl, {childList: true});\n",
              "}}\n",
              "\n",
              "                        })                };                            </script>        </div>\n",
              "</body>\n",
              "</html>"
            ]
          },
          "metadata": {}
        }
      ]
    }
  ]
}